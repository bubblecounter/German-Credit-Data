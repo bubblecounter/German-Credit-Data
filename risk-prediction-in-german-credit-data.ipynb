{
 "cells": [
  {
   "cell_type": "markdown",
   "metadata": {
    "papermill": {
     "duration": 0.018674,
     "end_time": "2020-09-07T17:59:36.886131",
     "exception": false,
     "start_time": "2020-09-07T17:59:36.867457",
     "status": "completed"
    },
    "tags": []
   },
   "source": [
    "**Outline**  \n",
    "1. Understandig the problem\n",
    "2. Getting the Data\n",
    "3. Data Exploration\n",
    "4. Data Preprocessing\n",
    "5. Shortlisting Promising Models\n",
    "6. Fine Tuning\n",
    "7. Ensemble Learning\n",
    "8. Conclusion\n",
    "9. References"
   ]
  },
  {
   "cell_type": "markdown",
   "metadata": {
    "papermill": {
     "duration": 0.016736,
     "end_time": "2020-09-07T17:59:36.921502",
     "exception": false,
     "start_time": "2020-09-07T17:59:36.904766",
     "status": "completed"
    },
    "tags": []
   },
   "source": [
    "### 1. Understand and frame the problem\n",
    "* a.Where to be used?  \n",
    "To predict whether a credit applicant will be rated good or bad\n",
    "* b. Supervised/Unsupervised/RL?  \n",
    "It is a supervised problem since we are given the dependent variable which is Risk(good or bad)\n",
    "* c. Classification / Regression?  \n",
    "It is a classification problem. We will predict whether an applicant belong to good or bad class."
   ]
  },
  {
   "cell_type": "markdown",
   "metadata": {
    "papermill": {
     "duration": 0.016817,
     "end_time": "2020-09-07T17:59:36.955469",
     "exception": false,
     "start_time": "2020-09-07T17:59:36.938652",
     "status": "completed"
    },
    "tags": []
   },
   "source": [
    "### 2. Getting the Data  \n",
    "Data is provided by Prof. Hofmann. It is also available in UCI datasets."
   ]
  },
  {
   "cell_type": "code",
   "execution_count": 1,
   "metadata": {
    "execution": {
     "iopub.execute_input": "2020-09-07T17:59:36.996173Z",
     "iopub.status.busy": "2020-09-07T17:59:36.995307Z",
     "iopub.status.idle": "2020-09-07T17:59:38.017139Z",
     "shell.execute_reply": "2020-09-07T17:59:38.016487Z"
    },
    "papermill": {
     "duration": 1.04463,
     "end_time": "2020-09-07T17:59:38.017272",
     "exception": false,
     "start_time": "2020-09-07T17:59:36.972642",
     "status": "completed"
    },
    "tags": []
   },
   "outputs": [],
   "source": [
    "import numpy as np \n",
    "import pandas as pd\n",
    "import matplotlib.pyplot as plt\n",
    "import seaborn as sns"
   ]
  },
  {
   "cell_type": "code",
   "execution_count": 2,
   "metadata": {
    "_cell_guid": "79c7e3d0-c299-4dcb-8224-4455121ee9b0",
    "_uuid": "d629ff2d2480ee46fbb7e2d37f6b5fab8052498a",
    "execution": {
     "iopub.execute_input": "2020-09-07T17:59:38.064132Z",
     "iopub.status.busy": "2020-09-07T17:59:38.063424Z",
     "iopub.status.idle": "2020-09-07T17:59:38.085701Z",
     "shell.execute_reply": "2020-09-07T17:59:38.084941Z"
    },
    "papermill": {
     "duration": 0.05088,
     "end_time": "2020-09-07T17:59:38.085830",
     "exception": false,
     "start_time": "2020-09-07T17:59:38.034950",
     "status": "completed"
    },
    "tags": []
   },
   "outputs": [],
   "source": [
    "data = pd.read_csv(\"/kaggle/input/german-credit-data-with-risk/german_credit_data.csv\",index_col=0)"
   ]
  },
  {
   "cell_type": "markdown",
   "metadata": {
    "papermill": {
     "duration": 0.016709,
     "end_time": "2020-09-07T17:59:38.119706",
     "exception": false,
     "start_time": "2020-09-07T17:59:38.102997",
     "status": "completed"
    },
    "tags": []
   },
   "source": [
    "### 3. Explore the Data\n",
    "**3.1 General Info**"
   ]
  },
  {
   "cell_type": "code",
   "execution_count": 3,
   "metadata": {
    "execution": {
     "iopub.execute_input": "2020-09-07T17:59:38.159757Z",
     "iopub.status.busy": "2020-09-07T17:59:38.158983Z",
     "iopub.status.idle": "2020-09-07T17:59:38.162596Z",
     "shell.execute_reply": "2020-09-07T17:59:38.161978Z"
    },
    "papermill": {
     "duration": 0.025763,
     "end_time": "2020-09-07T17:59:38.162750",
     "exception": false,
     "start_time": "2020-09-07T17:59:38.136987",
     "status": "completed"
    },
    "tags": []
   },
   "outputs": [],
   "source": [
    "# Making a copy of the original data to analyze\n",
    "df = data.copy()"
   ]
  },
  {
   "cell_type": "code",
   "execution_count": 4,
   "metadata": {
    "execution": {
     "iopub.execute_input": "2020-09-07T17:59:38.211234Z",
     "iopub.status.busy": "2020-09-07T17:59:38.210488Z",
     "iopub.status.idle": "2020-09-07T17:59:38.222658Z",
     "shell.execute_reply": "2020-09-07T17:59:38.223240Z"
    },
    "papermill": {
     "duration": 0.042574,
     "end_time": "2020-09-07T17:59:38.223415",
     "exception": false,
     "start_time": "2020-09-07T17:59:38.180841",
     "status": "completed"
    },
    "tags": []
   },
   "outputs": [
    {
     "data": {
      "text/html": [
       "<div>\n",
       "<style scoped>\n",
       "    .dataframe tbody tr th:only-of-type {\n",
       "        vertical-align: middle;\n",
       "    }\n",
       "\n",
       "    .dataframe tbody tr th {\n",
       "        vertical-align: top;\n",
       "    }\n",
       "\n",
       "    .dataframe thead th {\n",
       "        text-align: right;\n",
       "    }\n",
       "</style>\n",
       "<table border=\"1\" class=\"dataframe\">\n",
       "  <thead>\n",
       "    <tr style=\"text-align: right;\">\n",
       "      <th></th>\n",
       "      <th>Age</th>\n",
       "      <th>Sex</th>\n",
       "      <th>Job</th>\n",
       "      <th>Housing</th>\n",
       "      <th>Saving accounts</th>\n",
       "      <th>Checking account</th>\n",
       "      <th>Credit amount</th>\n",
       "      <th>Duration</th>\n",
       "      <th>Purpose</th>\n",
       "      <th>Risk</th>\n",
       "    </tr>\n",
       "  </thead>\n",
       "  <tbody>\n",
       "    <tr>\n",
       "      <th>0</th>\n",
       "      <td>67</td>\n",
       "      <td>male</td>\n",
       "      <td>2</td>\n",
       "      <td>own</td>\n",
       "      <td>NaN</td>\n",
       "      <td>little</td>\n",
       "      <td>1169</td>\n",
       "      <td>6</td>\n",
       "      <td>radio/TV</td>\n",
       "      <td>good</td>\n",
       "    </tr>\n",
       "    <tr>\n",
       "      <th>1</th>\n",
       "      <td>22</td>\n",
       "      <td>female</td>\n",
       "      <td>2</td>\n",
       "      <td>own</td>\n",
       "      <td>little</td>\n",
       "      <td>moderate</td>\n",
       "      <td>5951</td>\n",
       "      <td>48</td>\n",
       "      <td>radio/TV</td>\n",
       "      <td>bad</td>\n",
       "    </tr>\n",
       "    <tr>\n",
       "      <th>2</th>\n",
       "      <td>49</td>\n",
       "      <td>male</td>\n",
       "      <td>1</td>\n",
       "      <td>own</td>\n",
       "      <td>little</td>\n",
       "      <td>NaN</td>\n",
       "      <td>2096</td>\n",
       "      <td>12</td>\n",
       "      <td>education</td>\n",
       "      <td>good</td>\n",
       "    </tr>\n",
       "    <tr>\n",
       "      <th>3</th>\n",
       "      <td>45</td>\n",
       "      <td>male</td>\n",
       "      <td>2</td>\n",
       "      <td>free</td>\n",
       "      <td>little</td>\n",
       "      <td>little</td>\n",
       "      <td>7882</td>\n",
       "      <td>42</td>\n",
       "      <td>furniture/equipment</td>\n",
       "      <td>good</td>\n",
       "    </tr>\n",
       "    <tr>\n",
       "      <th>4</th>\n",
       "      <td>53</td>\n",
       "      <td>male</td>\n",
       "      <td>2</td>\n",
       "      <td>free</td>\n",
       "      <td>little</td>\n",
       "      <td>little</td>\n",
       "      <td>4870</td>\n",
       "      <td>24</td>\n",
       "      <td>car</td>\n",
       "      <td>bad</td>\n",
       "    </tr>\n",
       "  </tbody>\n",
       "</table>\n",
       "</div>"
      ],
      "text/plain": [
       "   Age     Sex  Job Housing Saving accounts Checking account  Credit amount  \\\n",
       "0   67    male    2     own             NaN           little           1169   \n",
       "1   22  female    2     own          little         moderate           5951   \n",
       "2   49    male    1     own          little              NaN           2096   \n",
       "3   45    male    2    free          little           little           7882   \n",
       "4   53    male    2    free          little           little           4870   \n",
       "\n",
       "   Duration              Purpose  Risk  \n",
       "0         6             radio/TV  good  \n",
       "1        48             radio/TV   bad  \n",
       "2        12            education  good  \n",
       "3        42  furniture/equipment  good  \n",
       "4        24                  car   bad  "
      ]
     },
     "execution_count": 4,
     "metadata": {},
     "output_type": "execute_result"
    }
   ],
   "source": [
    "df.head()"
   ]
  },
  {
   "cell_type": "code",
   "execution_count": 5,
   "metadata": {
    "execution": {
     "iopub.execute_input": "2020-09-07T17:59:38.278071Z",
     "iopub.status.busy": "2020-09-07T17:59:38.277257Z",
     "iopub.status.idle": "2020-09-07T17:59:38.281736Z",
     "shell.execute_reply": "2020-09-07T17:59:38.281083Z"
    },
    "papermill": {
     "duration": 0.040516,
     "end_time": "2020-09-07T17:59:38.281861",
     "exception": false,
     "start_time": "2020-09-07T17:59:38.241345",
     "status": "completed"
    },
    "tags": []
   },
   "outputs": [
    {
     "name": "stdout",
     "output_type": "stream",
     "text": [
      "<class 'pandas.core.frame.DataFrame'>\n",
      "Int64Index: 1000 entries, 0 to 999\n",
      "Data columns (total 10 columns):\n",
      " #   Column            Non-Null Count  Dtype \n",
      "---  ------            --------------  ----- \n",
      " 0   Age               1000 non-null   int64 \n",
      " 1   Sex               1000 non-null   object\n",
      " 2   Job               1000 non-null   int64 \n",
      " 3   Housing           1000 non-null   object\n",
      " 4   Saving accounts   817 non-null    object\n",
      " 5   Checking account  606 non-null    object\n",
      " 6   Credit amount     1000 non-null   int64 \n",
      " 7   Duration          1000 non-null   int64 \n",
      " 8   Purpose           1000 non-null   object\n",
      " 9   Risk              1000 non-null   object\n",
      "dtypes: int64(4), object(6)\n",
      "memory usage: 85.9+ KB\n"
     ]
    }
   ],
   "source": [
    "df.info()"
   ]
  },
  {
   "cell_type": "code",
   "execution_count": 6,
   "metadata": {
    "execution": {
     "iopub.execute_input": "2020-09-07T17:59:38.327676Z",
     "iopub.status.busy": "2020-09-07T17:59:38.326882Z",
     "iopub.status.idle": "2020-09-07T17:59:38.348917Z",
     "shell.execute_reply": "2020-09-07T17:59:38.348162Z"
    },
    "papermill": {
     "duration": 0.049427,
     "end_time": "2020-09-07T17:59:38.349039",
     "exception": false,
     "start_time": "2020-09-07T17:59:38.299612",
     "status": "completed"
    },
    "tags": []
   },
   "outputs": [
    {
     "data": {
      "text/html": [
       "<div>\n",
       "<style scoped>\n",
       "    .dataframe tbody tr th:only-of-type {\n",
       "        vertical-align: middle;\n",
       "    }\n",
       "\n",
       "    .dataframe tbody tr th {\n",
       "        vertical-align: top;\n",
       "    }\n",
       "\n",
       "    .dataframe thead th {\n",
       "        text-align: right;\n",
       "    }\n",
       "</style>\n",
       "<table border=\"1\" class=\"dataframe\">\n",
       "  <thead>\n",
       "    <tr style=\"text-align: right;\">\n",
       "      <th></th>\n",
       "      <th>Age</th>\n",
       "      <th>Job</th>\n",
       "      <th>Credit amount</th>\n",
       "      <th>Duration</th>\n",
       "    </tr>\n",
       "  </thead>\n",
       "  <tbody>\n",
       "    <tr>\n",
       "      <th>count</th>\n",
       "      <td>1000.000000</td>\n",
       "      <td>1000.000000</td>\n",
       "      <td>1000.000000</td>\n",
       "      <td>1000.000000</td>\n",
       "    </tr>\n",
       "    <tr>\n",
       "      <th>mean</th>\n",
       "      <td>35.546000</td>\n",
       "      <td>1.904000</td>\n",
       "      <td>3271.258000</td>\n",
       "      <td>20.903000</td>\n",
       "    </tr>\n",
       "    <tr>\n",
       "      <th>std</th>\n",
       "      <td>11.375469</td>\n",
       "      <td>0.653614</td>\n",
       "      <td>2822.736876</td>\n",
       "      <td>12.058814</td>\n",
       "    </tr>\n",
       "    <tr>\n",
       "      <th>min</th>\n",
       "      <td>19.000000</td>\n",
       "      <td>0.000000</td>\n",
       "      <td>250.000000</td>\n",
       "      <td>4.000000</td>\n",
       "    </tr>\n",
       "    <tr>\n",
       "      <th>25%</th>\n",
       "      <td>27.000000</td>\n",
       "      <td>2.000000</td>\n",
       "      <td>1365.500000</td>\n",
       "      <td>12.000000</td>\n",
       "    </tr>\n",
       "    <tr>\n",
       "      <th>50%</th>\n",
       "      <td>33.000000</td>\n",
       "      <td>2.000000</td>\n",
       "      <td>2319.500000</td>\n",
       "      <td>18.000000</td>\n",
       "    </tr>\n",
       "    <tr>\n",
       "      <th>75%</th>\n",
       "      <td>42.000000</td>\n",
       "      <td>2.000000</td>\n",
       "      <td>3972.250000</td>\n",
       "      <td>24.000000</td>\n",
       "    </tr>\n",
       "    <tr>\n",
       "      <th>max</th>\n",
       "      <td>75.000000</td>\n",
       "      <td>3.000000</td>\n",
       "      <td>18424.000000</td>\n",
       "      <td>72.000000</td>\n",
       "    </tr>\n",
       "  </tbody>\n",
       "</table>\n",
       "</div>"
      ],
      "text/plain": [
       "               Age          Job  Credit amount     Duration\n",
       "count  1000.000000  1000.000000    1000.000000  1000.000000\n",
       "mean     35.546000     1.904000    3271.258000    20.903000\n",
       "std      11.375469     0.653614    2822.736876    12.058814\n",
       "min      19.000000     0.000000     250.000000     4.000000\n",
       "25%      27.000000     2.000000    1365.500000    12.000000\n",
       "50%      33.000000     2.000000    2319.500000    18.000000\n",
       "75%      42.000000     2.000000    3972.250000    24.000000\n",
       "max      75.000000     3.000000   18424.000000    72.000000"
      ]
     },
     "execution_count": 6,
     "metadata": {},
     "output_type": "execute_result"
    }
   ],
   "source": [
    "df.describe()"
   ]
  },
  {
   "cell_type": "markdown",
   "metadata": {
    "papermill": {
     "duration": 0.01785,
     "end_time": "2020-09-07T17:59:38.384979",
     "exception": false,
     "start_time": "2020-09-07T17:59:38.367129",
     "status": "completed"
    },
    "tags": []
   },
   "source": [
    "**Observations**    \n",
    "* 1000 data entries (X,y)\n",
    "* 10 columns\n",
    "* Categorical: *Sex, Housing, Saving Accounts, Checking Account, Purpose, Risk*\n",
    "* Numerical  : *Age, Job, Credit Amount, Duration*\n",
    "* Target Value: *Risk*\n",
    "* Columns with Null Values: *Saving Accounts, Checking Account*\n",
    "* Applicants have at most 3 jobs\n",
    "* Duration is between 4 to 72 months\n"
   ]
  },
  {
   "cell_type": "code",
   "execution_count": 7,
   "metadata": {
    "execution": {
     "iopub.execute_input": "2020-09-07T17:59:38.429032Z",
     "iopub.status.busy": "2020-09-07T17:59:38.428314Z",
     "iopub.status.idle": "2020-09-07T17:59:38.431709Z",
     "shell.execute_reply": "2020-09-07T17:59:38.431100Z"
    },
    "papermill": {
     "duration": 0.028885,
     "end_time": "2020-09-07T17:59:38.431828",
     "exception": false,
     "start_time": "2020-09-07T17:59:38.402943",
     "status": "completed"
    },
    "tags": []
   },
   "outputs": [],
   "source": [
    "df_num = df[['Age','Job','Credit amount','Duration']]\n",
    "df_cat = df[['Sex','Housing','Saving accounts','Checking account','Purpose']]"
   ]
  },
  {
   "cell_type": "markdown",
   "metadata": {
    "papermill": {
     "duration": 0.017908,
     "end_time": "2020-09-07T17:59:38.467891",
     "exception": false,
     "start_time": "2020-09-07T17:59:38.449983",
     "status": "completed"
    },
    "tags": []
   },
   "source": [
    "**3.2 The distribution of Risk among Numerical Variables**"
   ]
  },
  {
   "cell_type": "code",
   "execution_count": 8,
   "metadata": {
    "execution": {
     "iopub.execute_input": "2020-09-07T17:59:38.519377Z",
     "iopub.status.busy": "2020-09-07T17:59:38.518624Z",
     "iopub.status.idle": "2020-09-07T17:59:38.557912Z",
     "shell.execute_reply": "2020-09-07T17:59:38.557176Z"
    },
    "papermill": {
     "duration": 0.07193,
     "end_time": "2020-09-07T17:59:38.558029",
     "exception": false,
     "start_time": "2020-09-07T17:59:38.486099",
     "status": "completed"
    },
    "tags": []
   },
   "outputs": [
    {
     "data": {
      "text/html": [
       "<div>\n",
       "<style scoped>\n",
       "    .dataframe tbody tr th:only-of-type {\n",
       "        vertical-align: middle;\n",
       "    }\n",
       "\n",
       "    .dataframe tbody tr th {\n",
       "        vertical-align: top;\n",
       "    }\n",
       "\n",
       "    .dataframe thead th {\n",
       "        text-align: right;\n",
       "    }\n",
       "</style>\n",
       "<table border=\"1\" class=\"dataframe\">\n",
       "  <thead>\n",
       "    <tr style=\"text-align: right;\">\n",
       "      <th></th>\n",
       "      <th>Age</th>\n",
       "      <th>Credit amount</th>\n",
       "      <th>Duration</th>\n",
       "      <th>Job</th>\n",
       "    </tr>\n",
       "    <tr>\n",
       "      <th>Risk</th>\n",
       "      <th></th>\n",
       "      <th></th>\n",
       "      <th></th>\n",
       "      <th></th>\n",
       "    </tr>\n",
       "  </thead>\n",
       "  <tbody>\n",
       "    <tr>\n",
       "      <th>bad</th>\n",
       "      <td>33.963333</td>\n",
       "      <td>3938.126667</td>\n",
       "      <td>24.860000</td>\n",
       "      <td>1.936667</td>\n",
       "    </tr>\n",
       "    <tr>\n",
       "      <th>good</th>\n",
       "      <td>36.224286</td>\n",
       "      <td>2985.457143</td>\n",
       "      <td>19.207143</td>\n",
       "      <td>1.890000</td>\n",
       "    </tr>\n",
       "  </tbody>\n",
       "</table>\n",
       "</div>"
      ],
      "text/plain": [
       "            Age  Credit amount   Duration       Job\n",
       "Risk                                               \n",
       "bad   33.963333    3938.126667  24.860000  1.936667\n",
       "good  36.224286    2985.457143  19.207143  1.890000"
      ]
     },
     "execution_count": 8,
     "metadata": {},
     "output_type": "execute_result"
    }
   ],
   "source": [
    "pd.pivot_table(df, index = 'Risk', values = df_num)"
   ]
  },
  {
   "cell_type": "markdown",
   "metadata": {
    "papermill": {
     "duration": 0.01801,
     "end_time": "2020-09-07T17:59:38.594358",
     "exception": false,
     "start_time": "2020-09-07T17:59:38.576348",
     "status": "completed"
    },
    "tags": []
   },
   "source": [
    "**Observations**  \n",
    "* The average **age** of ***good*** applicants is **higher** than ***bad*** applicants\n",
    "* The average **credit amount** of ***good*** applicants is **less** than ***bad*** applicants\n",
    "* The average **duration** of ***good*** applicants is **less** than ***bad*** applicants\n",
    "* The average **number of jobs** is nearly the **same** for good and bad applicants"
   ]
  },
  {
   "cell_type": "markdown",
   "metadata": {
    "papermill": {
     "duration": 0.018015,
     "end_time": "2020-09-07T17:59:38.630698",
     "exception": false,
     "start_time": "2020-09-07T17:59:38.612683",
     "status": "completed"
    },
    "tags": []
   },
   "source": [
    "**3.2 The distribution of applicants with good credit rate among categorical variables**"
   ]
  },
  {
   "cell_type": "code",
   "execution_count": 9,
   "metadata": {
    "execution": {
     "iopub.execute_input": "2020-09-07T17:59:38.680870Z",
     "iopub.status.busy": "2020-09-07T17:59:38.678845Z",
     "iopub.status.idle": "2020-09-07T17:59:39.066554Z",
     "shell.execute_reply": "2020-09-07T17:59:39.065933Z"
    },
    "papermill": {
     "duration": 0.4172,
     "end_time": "2020-09-07T17:59:39.066675",
     "exception": false,
     "start_time": "2020-09-07T17:59:38.649475",
     "status": "completed"
    },
    "tags": []
   },
   "outputs": [
    {
     "data": {
      "image/png": "[encoded data removed]",
      "text/plain": [
       "<Figure size 432x288 with 1 Axes>"
      ]
     },
     "metadata": {},
     "output_type": "display_data"
    },
    {
     "data": {
      "image/png": "[encoded data removed]",
      "text/plain": [
       "<Figure size 432x288 with 1 Axes>"
      ]
     },
     "metadata": {},
     "output_type": "display_data"
    },
    {
     "data": {
      "image/png": "[encoded data removed]",
      "text/plain": [
       "<Figure size 432x288 with 1 Axes>"
      ]
     },
     "metadata": {},
     "output_type": "display_data"
    },
    {
     "data": {
      "image/png": "[encoded data removed]",
      "text/plain": [
       "<Figure size 432x288 with 1 Axes>"
      ]
     },
     "metadata": {},
     "output_type": "display_data"
    },
    {
     "data": {
      "image/png": "[encoded data removed]",
      "text/plain": [
       "<Figure size 432x288 with 1 Axes>"
      ]
     },
     "metadata": {},
     "output_type": "display_data"
    }
   ],
   "source": [
    "for i in df_cat:\n",
    "    classLabel = df.loc[df.Risk == 'good'][i].value_counts(normalize=True).index\n",
    "    plt.pie(df.loc[df.Risk == 'good'][i].value_counts(normalize=True),\n",
    "            labels = classLabel, startangle=90, autopct='%.1f%%')\n",
    "    plt.title(i)\n",
    "    plt.show()"
   ]
  },
  {
   "cell_type": "markdown",
   "metadata": {
    "papermill": {
     "duration": 0.019328,
     "end_time": "2020-09-07T17:59:39.106841",
     "exception": false,
     "start_time": "2020-09-07T17:59:39.087513",
     "status": "completed"
    },
    "tags": []
   },
   "source": [
    "**Observations**  \n",
    "Among the applicants with **good** risk  \n",
    "* In terms of Sex             :   \n",
    "71% male, 29% female\n",
    "* In terms of Housing         :   \n",
    "75% own , 16% rent  , 9% free\n",
    "* In terms of Saving Accounts :   \n",
    "70% little\n",
    "* In terms of Checking Account:   \n",
    "47% moderate\n",
    "* In terms of Purpose         :   \n",
    "33% car , 31% radio,TV"
   ]
  },
  {
   "cell_type": "code",
   "execution_count": 10,
   "metadata": {
    "execution": {
     "iopub.execute_input": "2020-09-07T17:59:39.161909Z",
     "iopub.status.busy": "2020-09-07T17:59:39.160880Z",
     "iopub.status.idle": "2020-09-07T17:59:39.263318Z",
     "shell.execute_reply": "2020-09-07T17:59:39.262700Z"
    },
    "papermill": {
     "duration": 0.137069,
     "end_time": "2020-09-07T17:59:39.263445",
     "exception": false,
     "start_time": "2020-09-07T17:59:39.126376",
     "status": "completed"
    },
    "tags": []
   },
   "outputs": [
    {
     "data": {
      "image/png": "[encoded data removed]",
      "text/plain": [
       "<Figure size 720x720 with 2 Axes>"
      ]
     },
     "metadata": {},
     "output_type": "display_data"
    }
   ],
   "source": [
    "fig, (ax1,ax2) = plt.subplots(1,2,figsize=(10,10))\n",
    "ser = df.loc[df.Sex == 'female'][\"Risk\"].value_counts(normalize = True)\n",
    "ax1.pie(ser,labels = ser.index, startangle=90, autopct='%.1f%%')\n",
    "ax1.set_title('Female')\n",
    "ser2 = df.loc[df.Sex == 'male'][\"Risk\"].value_counts(normalize = True)\n",
    "ax2.pie(ser2,labels = ser2.index, startangle=90, autopct='%.1f%%')\n",
    "ax2.set_title('Male')\n",
    "fig.show()"
   ]
  },
  {
   "cell_type": "code",
   "execution_count": 11,
   "metadata": {
    "execution": {
     "iopub.execute_input": "2020-09-07T17:59:39.401907Z",
     "iopub.status.busy": "2020-09-07T17:59:39.312324Z",
     "iopub.status.idle": "2020-09-07T17:59:39.552914Z",
     "shell.execute_reply": "2020-09-07T17:59:39.552172Z"
    },
    "papermill": {
     "duration": 0.269453,
     "end_time": "2020-09-07T17:59:39.553045",
     "exception": false,
     "start_time": "2020-09-07T17:59:39.283592",
     "status": "completed"
    },
    "tags": []
   },
   "outputs": [
    {
     "data": {
      "image/png": "[encoded data removed]",
      "text/plain": [
       "<Figure size 1080x1080 with 3 Axes>"
      ]
     },
     "metadata": {},
     "output_type": "display_data"
    }
   ],
   "source": [
    "fig, (ax1,ax2,ax3) = plt.subplots(1,3,figsize=(15,15))\n",
    "ser = df.loc[df.Housing == 'own'][\"Risk\"].value_counts(normalize = True)\n",
    "ser2 = df.loc[df.Housing == 'rent'][\"Risk\"].value_counts(normalize = True)\n",
    "ser3 = df.loc[df.Housing == 'free'][\"Risk\"].value_counts(normalize = True)\n",
    "\n",
    "ax1.pie(ser,labels = ser.index, startangle=90, autopct='%.1f%%')\n",
    "ax1.set_title('Housing Status:Own')\n",
    "ax2.pie(ser2,labels = ser2.index, startangle=90, autopct='%.1f%%')\n",
    "ax2.set_title('Housing Status:rent')\n",
    "ax3.pie(ser3,labels = ser3.index, startangle=90, autopct='%.1f%%')\n",
    "ax3.set_title('Housing Status:free')\n",
    "fig.show()"
   ]
  },
  {
   "cell_type": "code",
   "execution_count": 12,
   "metadata": {
    "execution": {
     "iopub.execute_input": "2020-09-07T17:59:39.611861Z",
     "iopub.status.busy": "2020-09-07T17:59:39.610725Z",
     "iopub.status.idle": "2020-09-07T17:59:39.763659Z",
     "shell.execute_reply": "2020-09-07T17:59:39.763042Z"
    },
    "papermill": {
     "duration": 0.19035,
     "end_time": "2020-09-07T17:59:39.763794",
     "exception": false,
     "start_time": "2020-09-07T17:59:39.573444",
     "status": "completed"
    },
    "tags": []
   },
   "outputs": [
    {
     "data": {
      "image/png": "[encoded data removed]",
      "text/plain": [
       "<Figure size 1080x1080 with 3 Axes>"
      ]
     },
     "metadata": {},
     "output_type": "display_data"
    }
   ],
   "source": [
    "fig, (ax1,ax2,ax3) = plt.subplots(1,3,figsize=(15,15))\n",
    "ser = df.loc[df[\"Checking account\"] == 'little'][\"Risk\"].value_counts(normalize = True)\n",
    "ser2 = df.loc[df[\"Checking account\"] == 'moderate'][\"Risk\"].value_counts(normalize = True)\n",
    "ser3 = df.loc[df[\"Checking account\"] == 'rich'][\"Risk\"].value_counts(normalize = True)\n",
    "\n",
    "ax1.pie(ser,labels = ser.index, startangle=90, autopct='%.1f%%')\n",
    "ax1.set_title('Checking account:little')\n",
    "ax2.pie(ser2,labels = ser2.index, startangle=90, autopct='%.1f%%')\n",
    "ax2.set_title('Checking account:moderate')\n",
    "ax3.pie(ser3,labels = ser3.index, startangle=90, autopct='%.1f%%')\n",
    "ax3.set_title('Checking account:rich')\n",
    "fig.show()"
   ]
  },
  {
   "cell_type": "code",
   "execution_count": 13,
   "metadata": {
    "execution": {
     "iopub.execute_input": "2020-09-07T17:59:39.827037Z",
     "iopub.status.busy": "2020-09-07T17:59:39.825456Z",
     "iopub.status.idle": "2020-09-07T17:59:40.012133Z",
     "shell.execute_reply": "2020-09-07T17:59:40.011431Z"
    },
    "papermill": {
     "duration": 0.227686,
     "end_time": "2020-09-07T17:59:40.012251",
     "exception": false,
     "start_time": "2020-09-07T17:59:39.784565",
     "status": "completed"
    },
    "tags": []
   },
   "outputs": [
    {
     "data": {
      "image/png": "[encoded data removed]",
      "text/plain": [
       "<Figure size 1080x1080 with 4 Axes>"
      ]
     },
     "metadata": {},
     "output_type": "display_data"
    }
   ],
   "source": [
    "fig, (ax1,ax2,ax3,ax4) = plt.subplots(1,4,figsize=(15,15))\n",
    "ser = df.loc[df[\"Saving accounts\"] == 'little'][\"Risk\"].value_counts(normalize = True)\n",
    "ser2 = df.loc[df[\"Saving accounts\"] == 'moderate'][\"Risk\"].value_counts(normalize = True)\n",
    "ser3 = df.loc[df[\"Saving accounts\"] == 'rich'][\"Risk\"].value_counts(normalize = True)\n",
    "ser4 = df.loc[df[\"Saving accounts\"] == 'quite rich'][\"Risk\"].value_counts(normalize = True)\n",
    "\n",
    "ax1.pie(ser,labels = ser.index, startangle=90, autopct='%.1f%%')\n",
    "ax1.set_title('Checking account:little')\n",
    "ax2.pie(ser2,labels = ser2.index, startangle=90, autopct='%.1f%%')\n",
    "ax2.set_title('Checking account:moderate')\n",
    "ax3.pie(ser3,labels = ser3.index, startangle=90, autopct='%.1f%%')\n",
    "ax3.set_title('Checking account:rich')\n",
    "ax4.pie(ser4,labels = ser4.index, startangle=90, autopct='%.1f%%')\n",
    "ax4.set_title('Checking account:quite rich')\n",
    "fig.show()"
   ]
  },
  {
   "cell_type": "code",
   "execution_count": 14,
   "metadata": {
    "execution": {
     "iopub.execute_input": "2020-09-07T17:59:40.065562Z",
     "iopub.status.busy": "2020-09-07T17:59:40.064696Z",
     "iopub.status.idle": "2020-09-07T17:59:40.084857Z",
     "shell.execute_reply": "2020-09-07T17:59:40.085732Z"
    },
    "papermill": {
     "duration": 0.052167,
     "end_time": "2020-09-07T17:59:40.085955",
     "exception": false,
     "start_time": "2020-09-07T17:59:40.033788",
     "status": "completed"
    },
    "tags": []
   },
   "outputs": [
    {
     "name": "stdout",
     "output_type": "stream",
     "text": [
      "applicants with Purpose:  radio/TV\n",
      "22.14 % bad\n",
      "77.86 % good\n",
      "applicants with Purpose:  education\n",
      "38.98 % bad\n",
      "61.02 % good\n",
      "applicants with Purpose:  furniture/equipment\n",
      "32.04 % bad\n",
      "67.96 % good\n",
      "applicants with Purpose:  car\n",
      "31.45 % bad\n",
      "68.55 % good\n",
      "applicants with Purpose:  business\n",
      "35.05 % bad\n",
      "64.95 % good\n",
      "applicants with Purpose:  domestic appliances\n",
      "33.33 % bad\n",
      "66.67 % good\n",
      "applicants with Purpose:  repairs\n",
      "36.36 % bad\n",
      "63.64 % good\n",
      "applicants with Purpose:  vacation/others\n",
      "41.67 % bad\n",
      "58.33 % good\n"
     ]
    }
   ],
   "source": [
    "for i in df.Purpose.unique():\n",
    "        ser = df.loc[df[\"Purpose\"] == i][\"Risk\"].value_counts(normalize = True)\n",
    "        print('applicants with Purpose: ',i)\n",
    "        print(\"%.2f\" % (ser[1]*100),'% bad')\n",
    "        print(\"%.2f\" % (ser[0]*100),'% good')"
   ]
  },
  {
   "cell_type": "markdown",
   "metadata": {
    "papermill": {
     "duration": 0.024855,
     "end_time": "2020-09-07T17:59:40.133910",
     "exception": false,
     "start_time": "2020-09-07T17:59:40.109055",
     "status": "completed"
    },
    "tags": []
   },
   "source": [
    "**Observations**\n",
    "* The percentage of male applicants who rated as good is higher than female ones\n",
    "* Applicants with their own house rated as good 14% more than applicants on rent or free\n",
    "* In terms of checking account rich has 17% more chance than moderate and moderate has 10% more chance than little\n",
    "* The chance of getting good applicant in terms of saving accounts:\n",
    "little = 64%\n",
    "moderate = 67%\n",
    "rich = 87%\n",
    "quite rich = 82%\n",
    "* The chance of getting good credit risk in terms of purpose is as follows:  \n",
    "radio/TV > car > furniture/equipment > domestic appliances > business > repairs > education > vacation\n",
    "    \n"
   ]
  },
  {
   "cell_type": "markdown",
   "metadata": {
    "papermill": {
     "duration": 0.021119,
     "end_time": "2020-09-07T17:59:40.176665",
     "exception": false,
     "start_time": "2020-09-07T17:59:40.155546",
     "status": "completed"
    },
    "tags": []
   },
   "source": [
    "**3.3 Histogram of attributes**"
   ]
  },
  {
   "cell_type": "code",
   "execution_count": 15,
   "metadata": {
    "execution": {
     "iopub.execute_input": "2020-09-07T17:59:40.229833Z",
     "iopub.status.busy": "2020-09-07T17:59:40.227999Z",
     "iopub.status.idle": "2020-09-07T17:59:41.159650Z",
     "shell.execute_reply": "2020-09-07T17:59:41.159003Z"
    },
    "papermill": {
     "duration": 0.961618,
     "end_time": "2020-09-07T17:59:41.159774",
     "exception": false,
     "start_time": "2020-09-07T17:59:40.198156",
     "status": "completed"
    },
    "tags": []
   },
   "outputs": [
    {
     "data": {
      "image/png": "[encoded data removed]",
      "text/plain": [
       "<Figure size 432x288 with 1 Axes>"
      ]
     },
     "metadata": {
      "needs_background": "light"
     },
     "output_type": "display_data"
    },
    {
     "data": {
      "image/png": "[encoded data removed]",
      "text/plain": [
       "<Figure size 432x288 with 1 Axes>"
      ]
     },
     "metadata": {
      "needs_background": "light"
     },
     "output_type": "display_data"
    },
    {
     "data": {
      "image/png": "[encoded data removed]",
      "text/plain": [
       "<Figure size 432x288 with 1 Axes>"
      ]
     },
     "metadata": {
      "needs_background": "light"
     },
     "output_type": "display_data"
    },
    {
     "data": {
      "image/png": "[encoded data removed]",
      "text/plain": [
       "<Figure size 432x288 with 1 Axes>"
      ]
     },
     "metadata": {
      "needs_background": "light"
     },
     "output_type": "display_data"
    }
   ],
   "source": [
    "good = df.loc[df['Risk'] == 'good']\n",
    "bad = df.loc[df['Risk'] == 'bad']\n",
    "for i in df_num:\n",
    "    good[i].hist(alpha = 0.5,label='good')\n",
    "    bad[i].hist(alpha = 0.5,label='bad')\n",
    "    plt.title(i)\n",
    "    plt.legend(['good','bad'])\n",
    "    plt.show()"
   ]
  },
  {
   "cell_type": "markdown",
   "metadata": {
    "papermill": {
     "duration": 0.02269,
     "end_time": "2020-09-07T17:59:41.205084",
     "exception": false,
     "start_time": "2020-09-07T17:59:41.182394",
     "status": "completed"
    },
    "tags": []
   },
   "source": [
    "**Observations**\n",
    "* The chance of good credit risk is;\n",
    "    * higher for younger applicants\n",
    "    * nearly the same for people with different number of jobs\n",
    "    * decreases as the credit amount increases\n",
    "    * decreases as the credit duration increases"
   ]
  },
  {
   "cell_type": "code",
   "execution_count": 16,
   "metadata": {
    "execution": {
     "iopub.execute_input": "2020-09-07T17:59:41.259468Z",
     "iopub.status.busy": "2020-09-07T17:59:41.258662Z",
     "iopub.status.idle": "2020-09-07T17:59:41.314165Z",
     "shell.execute_reply": "2020-09-07T17:59:41.313272Z"
    },
    "papermill": {
     "duration": 0.086976,
     "end_time": "2020-09-07T17:59:41.314370",
     "exception": false,
     "start_time": "2020-09-07T17:59:41.227394",
     "status": "completed"
    },
    "tags": []
   },
   "outputs": [
    {
     "name": "stdout",
     "output_type": "stream",
     "text": [
      "Sex   female  male\n",
      "Risk              \n",
      "bad      109   191\n",
      "good     201   499\n",
      "Housing  free  own  rent\n",
      "Risk                    \n",
      "bad        44  186    70\n",
      "good       64  527   109\n",
      "Saving accounts  little  moderate  quite rich  rich\n",
      "Risk                                               \n",
      "bad                 217        34          11     6\n",
      "good                386        69          52    42\n",
      "Checking account  little  moderate  rich\n",
      "Risk                                    \n",
      "bad                  135       105    14\n",
      "good                 139       164    49\n"
     ]
    }
   ],
   "source": [
    "for i in df_cat:\n",
    "    if(i != 'Purpose'):\n",
    "        print(pd.pivot_table(df, index = 'Risk',values= 'Purpose', columns = i,aggfunc = 'count'))"
   ]
  },
  {
   "cell_type": "markdown",
   "metadata": {
    "papermill": {
     "duration": 0.022498,
     "end_time": "2020-09-07T17:59:41.360381",
     "exception": false,
     "start_time": "2020-09-07T17:59:41.337883",
     "status": "completed"
    },
    "tags": []
   },
   "source": [
    "**3.4 Correlations**"
   ]
  },
  {
   "cell_type": "code",
   "execution_count": 17,
   "metadata": {
    "execution": {
     "iopub.execute_input": "2020-09-07T17:59:41.417611Z",
     "iopub.status.busy": "2020-09-07T17:59:41.416868Z",
     "iopub.status.idle": "2020-09-07T17:59:41.638717Z",
     "shell.execute_reply": "2020-09-07T17:59:41.637812Z"
    },
    "papermill": {
     "duration": 0.255988,
     "end_time": "2020-09-07T17:59:41.638863",
     "exception": false,
     "start_time": "2020-09-07T17:59:41.382875",
     "status": "completed"
    },
    "tags": []
   },
   "outputs": [
    {
     "name": "stdout",
     "output_type": "stream",
     "text": [
      "                    Age       Job  Credit amount  Duration\n",
      "Age            1.000000  0.015673       0.032716 -0.036136\n",
      "Job            0.015673  1.000000       0.285385  0.210910\n",
      "Credit amount  0.032716  0.285385       1.000000  0.624984\n",
      "Duration      -0.036136  0.210910       0.624984  1.000000\n"
     ]
    },
    {
     "data": {
      "text/plain": [
       "<matplotlib.axes._subplots.AxesSubplot at 0x7f5f30068bd0>"
      ]
     },
     "execution_count": 17,
     "metadata": {},
     "output_type": "execute_result"
    },
    {
     "data": {
      "image/png": "[encoded data removed]",
      "text/plain": [
       "<Figure size 432x288 with 2 Axes>"
      ]
     },
     "metadata": {
      "needs_background": "light"
     },
     "output_type": "display_data"
    }
   ],
   "source": [
    "print(df_num.corr())\n",
    "sns.heatmap(df_num.corr())"
   ]
  },
  {
   "cell_type": "markdown",
   "metadata": {
    "papermill": {
     "duration": 0.023657,
     "end_time": "2020-09-07T17:59:41.685618",
     "exception": false,
     "start_time": "2020-09-07T17:59:41.661961",
     "status": "completed"
    },
    "tags": []
   },
   "source": [
    "**Observation**  \n",
    "* Credit amount and duration is highly corelated"
   ]
  },
  {
   "cell_type": "markdown",
   "metadata": {
    "papermill": {
     "duration": 0.022315,
     "end_time": "2020-09-07T17:59:41.730736",
     "exception": false,
     "start_time": "2020-09-07T17:59:41.708421",
     "status": "completed"
    },
    "tags": []
   },
   "source": [
    "### 4. Prepare the Data  \n",
    "**4.1 Missing Values**\n",
    "* As we observed before we have null values in just 2 categories which are Saving Account and Checking account. This values may indicate that these person doesnt have saving or checking account or they may be just a missing value.\n",
    "* Therefore i wanted to treat the missing values as another categorical value.   "
   ]
  },
  {
   "cell_type": "code",
   "execution_count": 18,
   "metadata": {
    "execution": {
     "iopub.execute_input": "2020-09-07T17:59:41.787196Z",
     "iopub.status.busy": "2020-09-07T17:59:41.786099Z",
     "iopub.status.idle": "2020-09-07T17:59:41.790649Z",
     "shell.execute_reply": "2020-09-07T17:59:41.789931Z"
    },
    "papermill": {
     "duration": 0.037215,
     "end_time": "2020-09-07T17:59:41.790773",
     "exception": false,
     "start_time": "2020-09-07T17:59:41.753558",
     "status": "completed"
    },
    "tags": []
   },
   "outputs": [
    {
     "data": {
      "text/plain": [
       "Checking account    394\n",
       "Saving accounts     183\n",
       "Risk                  0\n",
       "Purpose               0\n",
       "Duration              0\n",
       "Credit amount         0\n",
       "Housing               0\n",
       "Job                   0\n",
       "Sex                   0\n",
       "Age                   0\n",
       "dtype: int64"
      ]
     },
     "execution_count": 18,
     "metadata": {},
     "output_type": "execute_result"
    }
   ],
   "source": [
    "data.isnull().sum().sort_values(ascending=False)"
   ]
  },
  {
   "cell_type": "code",
   "execution_count": 19,
   "metadata": {
    "execution": {
     "iopub.execute_input": "2020-09-07T17:59:41.844522Z",
     "iopub.status.busy": "2020-09-07T17:59:41.843752Z",
     "iopub.status.idle": "2020-09-07T17:59:41.846445Z",
     "shell.execute_reply": "2020-09-07T17:59:41.847036Z"
    },
    "papermill": {
     "duration": 0.03339,
     "end_time": "2020-09-07T17:59:41.847182",
     "exception": false,
     "start_time": "2020-09-07T17:59:41.813792",
     "status": "completed"
    },
    "tags": []
   },
   "outputs": [],
   "source": [
    "data['Checking account'].fillna(\"No Info\", inplace = True) \n",
    "data['Saving accounts'].fillna(\"No Info\", inplace = True) "
   ]
  },
  {
   "cell_type": "markdown",
   "metadata": {
    "papermill": {
     "duration": 0.022516,
     "end_time": "2020-09-07T17:59:41.892951",
     "exception": false,
     "start_time": "2020-09-07T17:59:41.870435",
     "status": "completed"
    },
    "tags": []
   },
   "source": [
    "Splitting train and test data\n",
    "I wanted to keep the ratio of good and bad risk applicant same in both train and test data\n",
    "To do so i decided to use stratified shuffle split."
   ]
  },
  {
   "cell_type": "markdown",
   "metadata": {
    "papermill": {
     "duration": 0.022774,
     "end_time": "2020-09-07T17:59:41.938880",
     "exception": false,
     "start_time": "2020-09-07T17:59:41.916106",
     "status": "completed"
    },
    "tags": []
   },
   "source": [
    "**4.2 Split data into training and test set**  \n",
    "* I wanted to keep the ratio of good and bad applicants same for both sets\n",
    "* Therefore i made stratified train test split "
   ]
  },
  {
   "cell_type": "code",
   "execution_count": 20,
   "metadata": {
    "execution": {
     "iopub.execute_input": "2020-09-07T17:59:42.041459Z",
     "iopub.status.busy": "2020-09-07T17:59:42.040366Z",
     "iopub.status.idle": "2020-09-07T17:59:42.043792Z",
     "shell.execute_reply": "2020-09-07T17:59:42.044387Z"
    },
    "papermill": {
     "duration": 0.082634,
     "end_time": "2020-09-07T17:59:42.044559",
     "exception": false,
     "start_time": "2020-09-07T17:59:41.961925",
     "status": "completed"
    },
    "tags": []
   },
   "outputs": [
    {
     "data": {
      "text/plain": [
       "good    700\n",
       "bad     300\n",
       "Name: Risk, dtype: int64"
      ]
     },
     "execution_count": 20,
     "metadata": {},
     "output_type": "execute_result"
    }
   ],
   "source": [
    "# The ratio of good and bad applicants\n",
    "data['Risk'].value_counts()"
   ]
  },
  {
   "cell_type": "code",
   "execution_count": 21,
   "metadata": {
    "execution": {
     "iopub.execute_input": "2020-09-07T17:59:42.098011Z",
     "iopub.status.busy": "2020-09-07T17:59:42.097090Z",
     "iopub.status.idle": "2020-09-07T17:59:42.100846Z",
     "shell.execute_reply": "2020-09-07T17:59:42.101475Z"
    },
    "papermill": {
     "duration": 0.033905,
     "end_time": "2020-09-07T17:59:42.101639",
     "exception": false,
     "start_time": "2020-09-07T17:59:42.067734",
     "status": "completed"
    },
    "tags": []
   },
   "outputs": [],
   "source": [
    "# set dependent and independent values\n",
    "y = data['Risk']\n",
    "X = data.drop('Risk',axis = 1)"
   ]
  },
  {
   "cell_type": "code",
   "execution_count": 22,
   "metadata": {
    "execution": {
     "iopub.execute_input": "2020-09-07T17:59:42.156458Z",
     "iopub.status.busy": "2020-09-07T17:59:42.155563Z",
     "iopub.status.idle": "2020-09-07T17:59:42.279080Z",
     "shell.execute_reply": "2020-09-07T17:59:42.278428Z"
    },
    "papermill": {
     "duration": 0.152843,
     "end_time": "2020-09-07T17:59:42.279204",
     "exception": false,
     "start_time": "2020-09-07T17:59:42.126361",
     "status": "completed"
    },
    "tags": []
   },
   "outputs": [],
   "source": [
    "# Split train and test sets\n",
    "from sklearn.model_selection import train_test_split\n",
    "X_train, X_test, y_train, y_test = train_test_split(X, y, test_size=0.2, random_state=42, stratify=y)"
   ]
  },
  {
   "cell_type": "code",
   "execution_count": 23,
   "metadata": {
    "execution": {
     "iopub.execute_input": "2020-09-07T17:59:42.334918Z",
     "iopub.status.busy": "2020-09-07T17:59:42.333830Z",
     "iopub.status.idle": "2020-09-07T17:59:42.338488Z",
     "shell.execute_reply": "2020-09-07T17:59:42.337856Z"
    },
    "papermill": {
     "duration": 0.035784,
     "end_time": "2020-09-07T17:59:42.338612",
     "exception": false,
     "start_time": "2020-09-07T17:59:42.302828",
     "status": "completed"
    },
    "tags": []
   },
   "outputs": [
    {
     "data": {
      "text/plain": [
       "good    560\n",
       "bad     240\n",
       "Name: Risk, dtype: int64"
      ]
     },
     "execution_count": 23,
     "metadata": {},
     "output_type": "execute_result"
    }
   ],
   "source": [
    "y_train.value_counts()"
   ]
  },
  {
   "cell_type": "markdown",
   "metadata": {
    "papermill": {
     "duration": 0.023261,
     "end_time": "2020-09-07T17:59:42.385520",
     "exception": false,
     "start_time": "2020-09-07T17:59:42.362259",
     "status": "completed"
    },
    "tags": []
   },
   "source": [
    "* The ratio of good and bad applicants is the same for both sets"
   ]
  },
  {
   "cell_type": "markdown",
   "metadata": {
    "papermill": {
     "duration": 0.023008,
     "end_time": "2020-09-07T17:59:42.432077",
     "exception": false,
     "start_time": "2020-09-07T17:59:42.409069",
     "status": "completed"
    },
    "tags": []
   },
   "source": [
    "**4.3 Feature Scaling and Pipeline Formation**"
   ]
  },
  {
   "cell_type": "code",
   "execution_count": 24,
   "metadata": {
    "execution": {
     "iopub.execute_input": "2020-09-07T17:59:42.488470Z",
     "iopub.status.busy": "2020-09-07T17:59:42.487656Z",
     "iopub.status.idle": "2020-09-07T17:59:42.498879Z",
     "shell.execute_reply": "2020-09-07T17:59:42.498056Z"
    },
    "papermill": {
     "duration": 0.043404,
     "end_time": "2020-09-07T17:59:42.499010",
     "exception": false,
     "start_time": "2020-09-07T17:59:42.455606",
     "status": "completed"
    },
    "tags": []
   },
   "outputs": [],
   "source": [
    "from sklearn.pipeline import Pipeline\n",
    "from sklearn.preprocessing import StandardScaler\n",
    "from sklearn.compose import ColumnTransformer\n",
    "from sklearn.preprocessing import OneHotEncoder\n",
    "\n",
    "num_attribs = ['Age','Job','Credit amount','Duration']\n",
    "cat_attribs = ['Sex','Housing','Saving accounts','Checking account','Purpose']\n",
    "\n",
    "num_pipeline = Pipeline([\n",
    "        ('std_scaler', StandardScaler())\n",
    "    ])\n",
    "cat_pipeline = Pipeline([\n",
    "        (\"encoding\", OneHotEncoder())\n",
    "    ])\n",
    "full_pipeline = ColumnTransformer([\n",
    "        (\"num\", num_pipeline, num_attribs),\n",
    "        (\"cat\", cat_pipeline, cat_attribs)\n",
    "    ])"
   ]
  },
  {
   "cell_type": "code",
   "execution_count": 25,
   "metadata": {
    "execution": {
     "iopub.execute_input": "2020-09-07T17:59:42.580713Z",
     "iopub.status.busy": "2020-09-07T17:59:42.579611Z",
     "iopub.status.idle": "2020-09-07T17:59:42.597429Z",
     "shell.execute_reply": "2020-09-07T17:59:42.598100Z"
    },
    "papermill": {
     "duration": 0.070796,
     "end_time": "2020-09-07T17:59:42.598274",
     "exception": false,
     "start_time": "2020-09-07T17:59:42.527478",
     "status": "completed"
    },
    "tags": []
   },
   "outputs": [],
   "source": [
    "X_train = full_pipeline.fit_transform(X_train)\n",
    "X_test = full_pipeline.transform(X_test)"
   ]
  },
  {
   "cell_type": "code",
   "execution_count": 26,
   "metadata": {
    "execution": {
     "iopub.execute_input": "2020-09-07T17:59:42.666065Z",
     "iopub.status.busy": "2020-09-07T17:59:42.665316Z",
     "iopub.status.idle": "2020-09-07T17:59:42.668310Z",
     "shell.execute_reply": "2020-09-07T17:59:42.667738Z"
    },
    "papermill": {
     "duration": 0.040941,
     "end_time": "2020-09-07T17:59:42.668435",
     "exception": false,
     "start_time": "2020-09-07T17:59:42.627494",
     "status": "completed"
    },
    "tags": []
   },
   "outputs": [],
   "source": [
    "from sklearn.preprocessing import LabelEncoder\n",
    "le = LabelEncoder()\n",
    "y_train = le.fit_transform(y_train)\n",
    "y_test = le.transform(y_test)"
   ]
  },
  {
   "cell_type": "markdown",
   "metadata": {
    "papermill": {
     "duration": 0.023501,
     "end_time": "2020-09-07T17:59:42.715920",
     "exception": false,
     "start_time": "2020-09-07T17:59:42.692419",
     "status": "completed"
    },
    "tags": []
   },
   "source": [
    "### 5. Shortlisting Promising Models\n",
    "\n",
    "| Models | Accuracy Score |\n",
    "|:-|:-|\n",
    "| Logistic Regression | 73.5% |\n",
    "| Naive Bayes | 69.5% |\n",
    "| k-nn | 69.5% |\n",
    "| SVM | 72.5% |\n",
    "| Kernel SVM | 74.5% |\n",
    "| Decision Tree | 71% |\n",
    "| Random Forest | 71.5% |\n",
    "| XGBoost | 71.5% |"
   ]
  },
  {
   "cell_type": "code",
   "execution_count": 27,
   "metadata": {
    "execution": {
     "iopub.execute_input": "2020-09-07T17:59:42.771491Z",
     "iopub.status.busy": "2020-09-07T17:59:42.770724Z",
     "iopub.status.idle": "2020-09-07T17:59:43.927232Z",
     "shell.execute_reply": "2020-09-07T17:59:43.926539Z"
    },
    "papermill": {
     "duration": 1.187615,
     "end_time": "2020-09-07T17:59:43.927372",
     "exception": false,
     "start_time": "2020-09-07T17:59:42.739757",
     "status": "completed"
    },
    "tags": []
   },
   "outputs": [],
   "source": [
    "from sklearn.metrics import confusion_matrix, accuracy_score\n",
    "from sklearn.linear_model import LogisticRegression\n",
    "from sklearn.naive_bayes import GaussianNB\n",
    "from sklearn.neighbors import KNeighborsClassifier\n",
    "from sklearn.svm import SVC\n",
    "from sklearn.tree import DecisionTreeClassifier\n",
    "from sklearn.ensemble import RandomForestClassifier\n",
    "from xgboost import XGBClassifier\n",
    "from sklearn.ensemble import VotingClassifier\n",
    "from sklearn.model_selection import cross_val_score\n",
    "from sklearn.model_selection import cross_val_predict"
   ]
  },
  {
   "cell_type": "markdown",
   "metadata": {
    "papermill": {
     "duration": 0.023387,
     "end_time": "2020-09-07T17:59:43.974729",
     "exception": false,
     "start_time": "2020-09-07T17:59:43.951342",
     "status": "completed"
    },
    "tags": []
   },
   "source": [
    "**5.1 Logistic Regression**"
   ]
  },
  {
   "cell_type": "code",
   "execution_count": 28,
   "metadata": {
    "execution": {
     "iopub.execute_input": "2020-09-07T17:59:44.030527Z",
     "iopub.status.busy": "2020-09-07T17:59:44.029785Z",
     "iopub.status.idle": "2020-09-07T17:59:44.134159Z",
     "shell.execute_reply": "2020-09-07T17:59:44.133502Z"
    },
    "papermill": {
     "duration": 0.135767,
     "end_time": "2020-09-07T17:59:44.134327",
     "exception": false,
     "start_time": "2020-09-07T17:59:43.998560",
     "status": "completed"
    },
    "tags": []
   },
   "outputs": [
    {
     "name": "stdout",
     "output_type": "stream",
     "text": [
      "Accuracy score: 0.73125\n",
      "Confusion Matrix\n",
      "[[ 88 152]\n",
      " [ 63 497]]\n"
     ]
    }
   ],
   "source": [
    "lr = LogisticRegression(random_state = 42)\n",
    "y_pred_lr = cross_val_predict(lr,X_train,y_train,cv = 5)\n",
    "print('Accuracy score:',accuracy_score(y_train, y_pred_lr))\n",
    "print('Confusion Matrix')\n",
    "print(confusion_matrix(y_train, y_pred_lr))"
   ]
  },
  {
   "cell_type": "markdown",
   "metadata": {
    "papermill": {
     "duration": 0.023686,
     "end_time": "2020-09-07T17:59:44.184865",
     "exception": false,
     "start_time": "2020-09-07T17:59:44.161179",
     "status": "completed"
    },
    "tags": []
   },
   "source": [
    "**5.2 Naive Bayes**"
   ]
  },
  {
   "cell_type": "code",
   "execution_count": 29,
   "metadata": {
    "execution": {
     "iopub.execute_input": "2020-09-07T17:59:44.240875Z",
     "iopub.status.busy": "2020-09-07T17:59:44.239750Z",
     "iopub.status.idle": "2020-09-07T17:59:44.258828Z",
     "shell.execute_reply": "2020-09-07T17:59:44.258126Z"
    },
    "papermill": {
     "duration": 0.050108,
     "end_time": "2020-09-07T17:59:44.258979",
     "exception": false,
     "start_time": "2020-09-07T17:59:44.208871",
     "status": "completed"
    },
    "tags": []
   },
   "outputs": [
    {
     "name": "stdout",
     "output_type": "stream",
     "text": [
      "Accuracy score: 0.6775\n",
      "Confusion Matrix\n",
      "[[137 103]\n",
      " [155 405]]\n"
     ]
    }
   ],
   "source": [
    "nb = GaussianNB()\n",
    "y_pred_nb = cross_val_predict(nb,X_train,y_train,cv = 5)\n",
    "print('Accuracy score:',accuracy_score(y_train, y_pred_nb))\n",
    "print('Confusion Matrix')\n",
    "print(confusion_matrix(y_train, y_pred_nb))"
   ]
  },
  {
   "cell_type": "markdown",
   "metadata": {
    "papermill": {
     "duration": 0.024118,
     "end_time": "2020-09-07T17:59:44.310845",
     "exception": false,
     "start_time": "2020-09-07T17:59:44.286727",
     "status": "completed"
    },
    "tags": []
   },
   "source": [
    "**5.3 K-Nearest Neighbors**"
   ]
  },
  {
   "cell_type": "code",
   "execution_count": 30,
   "metadata": {
    "execution": {
     "iopub.execute_input": "2020-09-07T17:59:44.366548Z",
     "iopub.status.busy": "2020-09-07T17:59:44.365772Z",
     "iopub.status.idle": "2020-09-07T17:59:44.445213Z",
     "shell.execute_reply": "2020-09-07T17:59:44.445855Z"
    },
    "papermill": {
     "duration": 0.110975,
     "end_time": "2020-09-07T17:59:44.446012",
     "exception": false,
     "start_time": "2020-09-07T17:59:44.335037",
     "status": "completed"
    },
    "tags": []
   },
   "outputs": [
    {
     "name": "stdout",
     "output_type": "stream",
     "text": [
      "Accuracy score: 0.7025\n",
      "Confusion Matrix\n",
      "[[ 81 159]\n",
      " [ 79 481]]\n"
     ]
    }
   ],
   "source": [
    "knn = KNeighborsClassifier(n_neighbors = 5)\n",
    "y_pred_knn = cross_val_predict(knn,X_train,y_train,cv = 5)\n",
    "print('Accuracy score:',accuracy_score(y_train, y_pred_knn))\n",
    "print('Confusion Matrix')\n",
    "print(confusion_matrix(y_train, y_pred_knn))"
   ]
  },
  {
   "cell_type": "markdown",
   "metadata": {
    "papermill": {
     "duration": 0.023693,
     "end_time": "2020-09-07T17:59:44.494008",
     "exception": false,
     "start_time": "2020-09-07T17:59:44.470315",
     "status": "completed"
    },
    "tags": []
   },
   "source": [
    "**5.4 Support Vector Machine**"
   ]
  },
  {
   "cell_type": "code",
   "execution_count": 31,
   "metadata": {
    "execution": {
     "iopub.execute_input": "2020-09-07T17:59:44.550385Z",
     "iopub.status.busy": "2020-09-07T17:59:44.549619Z",
     "iopub.status.idle": "2020-09-07T17:59:44.975640Z",
     "shell.execute_reply": "2020-09-07T17:59:44.976176Z"
    },
    "papermill": {
     "duration": 0.458134,
     "end_time": "2020-09-07T17:59:44.976352",
     "exception": false,
     "start_time": "2020-09-07T17:59:44.518218",
     "status": "completed"
    },
    "tags": []
   },
   "outputs": [
    {
     "name": "stdout",
     "output_type": "stream",
     "text": [
      "Accuracy score: 0.73375\n",
      "Confusion Matrix\n",
      "[[ 74 166]\n",
      " [ 47 513]]\n"
     ]
    }
   ],
   "source": [
    "svc = SVC(probability=True,kernel = 'linear', random_state = 42)\n",
    "y_pred_svc = cross_val_predict(svc,X_train,y_train,cv = 5)\n",
    "print('Accuracy score:',accuracy_score(y_train, y_pred_svc))\n",
    "print('Confusion Matrix')\n",
    "print(confusion_matrix(y_train, y_pred_svc))"
   ]
  },
  {
   "cell_type": "markdown",
   "metadata": {
    "papermill": {
     "duration": 0.0248,
     "end_time": "2020-09-07T17:59:45.025662",
     "exception": false,
     "start_time": "2020-09-07T17:59:45.000862",
     "status": "completed"
    },
    "tags": []
   },
   "source": [
    "**5.5 Kernel SVM (rbf)**"
   ]
  },
  {
   "cell_type": "code",
   "execution_count": 32,
   "metadata": {
    "execution": {
     "iopub.execute_input": "2020-09-07T17:59:45.082205Z",
     "iopub.status.busy": "2020-09-07T17:59:45.081482Z",
     "iopub.status.idle": "2020-09-07T17:59:45.654104Z",
     "shell.execute_reply": "2020-09-07T17:59:45.653370Z"
    },
    "papermill": {
     "duration": 0.604139,
     "end_time": "2020-09-07T17:59:45.654233",
     "exception": false,
     "start_time": "2020-09-07T17:59:45.050094",
     "status": "completed"
    },
    "tags": []
   },
   "outputs": [
    {
     "name": "stdout",
     "output_type": "stream",
     "text": [
      "Accuracy score: 0.7375\n",
      "Confusion Matrix\n",
      "[[ 69 171]\n",
      " [ 39 521]]\n"
     ]
    }
   ],
   "source": [
    "svcKernel = SVC(probability=True,kernel = 'rbf', random_state = 42)\n",
    "y_pred_svcKernel = cross_val_predict(svcKernel,X_train,y_train,cv = 5)\n",
    "print('Accuracy score:',accuracy_score(y_train, y_pred_svcKernel))\n",
    "print('Confusion Matrix')\n",
    "print(confusion_matrix(y_train, y_pred_svcKernel))"
   ]
  },
  {
   "cell_type": "markdown",
   "metadata": {
    "papermill": {
     "duration": 0.024053,
     "end_time": "2020-09-07T17:59:45.702849",
     "exception": false,
     "start_time": "2020-09-07T17:59:45.678796",
     "status": "completed"
    },
    "tags": []
   },
   "source": [
    "**5.6 Decision Tree Classification**"
   ]
  },
  {
   "cell_type": "code",
   "execution_count": 33,
   "metadata": {
    "execution": {
     "iopub.execute_input": "2020-09-07T17:59:45.759078Z",
     "iopub.status.busy": "2020-09-07T17:59:45.758367Z",
     "iopub.status.idle": "2020-09-07T17:59:45.785271Z",
     "shell.execute_reply": "2020-09-07T17:59:45.784676Z"
    },
    "papermill": {
     "duration": 0.058232,
     "end_time": "2020-09-07T17:59:45.785422",
     "exception": false,
     "start_time": "2020-09-07T17:59:45.727190",
     "status": "completed"
    },
    "tags": []
   },
   "outputs": [
    {
     "name": "stdout",
     "output_type": "stream",
     "text": [
      "Accuracy score: 0.71375\n",
      "Confusion Matrix\n",
      "[[ 76 164]\n",
      " [ 65 495]]\n"
     ]
    }
   ],
   "source": [
    "dt = DecisionTreeClassifier(max_depth = 5,random_state = 42)\n",
    "y_pred_dt = cross_val_predict(dt,X_train,y_train,cv = 5)\n",
    "print('Accuracy score:',accuracy_score(y_train, y_pred_dt))\n",
    "print('Confusion Matrix')\n",
    "print(confusion_matrix(y_train, y_pred_dt))"
   ]
  },
  {
   "cell_type": "markdown",
   "metadata": {
    "papermill": {
     "duration": 0.024582,
     "end_time": "2020-09-07T17:59:45.834750",
     "exception": false,
     "start_time": "2020-09-07T17:59:45.810168",
     "status": "completed"
    },
    "tags": []
   },
   "source": [
    "**5.7 Random Forest**"
   ]
  },
  {
   "cell_type": "code",
   "execution_count": 34,
   "metadata": {
    "execution": {
     "iopub.execute_input": "2020-09-07T17:59:45.892029Z",
     "iopub.status.busy": "2020-09-07T17:59:45.891261Z",
     "iopub.status.idle": "2020-09-07T17:59:46.052169Z",
     "shell.execute_reply": "2020-09-07T17:59:46.051526Z"
    },
    "papermill": {
     "duration": 0.192751,
     "end_time": "2020-09-07T17:59:46.052313",
     "exception": false,
     "start_time": "2020-09-07T17:59:45.859562",
     "status": "completed"
    },
    "tags": []
   },
   "outputs": [
    {
     "name": "stdout",
     "output_type": "stream",
     "text": [
      "Accuracy score: 0.70375\n",
      "Confusion Matrix\n",
      "[[114 126]\n",
      " [111 449]]\n"
     ]
    }
   ],
   "source": [
    "rf = RandomForestClassifier(n_estimators = 10, random_state = 42)\n",
    "y_pred_rf = cross_val_predict(rf,X_train,y_train,cv = 5)\n",
    "print('Accuracy score:',accuracy_score(y_train, y_pred_rf))\n",
    "print('Confusion Matrix')\n",
    "print(confusion_matrix(y_train, y_pred_rf))"
   ]
  },
  {
   "cell_type": "markdown",
   "metadata": {
    "papermill": {
     "duration": 0.024368,
     "end_time": "2020-09-07T17:59:46.101732",
     "exception": false,
     "start_time": "2020-09-07T17:59:46.077364",
     "status": "completed"
    },
    "tags": []
   },
   "source": [
    "**5.8 XGBoost**"
   ]
  },
  {
   "cell_type": "code",
   "execution_count": 35,
   "metadata": {
    "execution": {
     "iopub.execute_input": "2020-09-07T17:59:46.159972Z",
     "iopub.status.busy": "2020-09-07T17:59:46.158888Z",
     "iopub.status.idle": "2020-09-07T17:59:46.534144Z",
     "shell.execute_reply": "2020-09-07T17:59:46.534906Z"
    },
    "papermill": {
     "duration": 0.408377,
     "end_time": "2020-09-07T17:59:46.535092",
     "exception": false,
     "start_time": "2020-09-07T17:59:46.126715",
     "status": "completed"
    },
    "tags": []
   },
   "outputs": [
    {
     "name": "stdout",
     "output_type": "stream",
     "text": [
      "Accuracy score: 0.72375\n",
      "Confusion Matrix\n",
      "[[105 135]\n",
      " [ 86 474]]\n"
     ]
    }
   ],
   "source": [
    "xgb = XGBClassifier(random_state =42)\n",
    "y_pred_xgb = cross_val_predict(xgb,X_train,y_train,cv = 5)\n",
    "print('Accuracy score:',accuracy_score(y_train, y_pred_xgb))\n",
    "print('Confusion Matrix')\n",
    "print(confusion_matrix(y_train, y_pred_xgb))"
   ]
  },
  {
   "cell_type": "markdown",
   "metadata": {
    "papermill": {
     "duration": 0.030053,
     "end_time": "2020-09-07T17:59:46.595652",
     "exception": false,
     "start_time": "2020-09-07T17:59:46.565599",
     "status": "completed"
    },
    "tags": []
   },
   "source": [
    "**5.9 Analyzing the type of errors for each model**"
   ]
  },
  {
   "cell_type": "markdown",
   "metadata": {
    "papermill": {
     "duration": 0.030417,
     "end_time": "2020-09-07T17:59:46.656609",
     "exception": false,
     "start_time": "2020-09-07T17:59:46.626192",
     "status": "completed"
    },
    "tags": []
   },
   "source": [
    "| Models | Accuracy Score | Type 1 Error | Type 2 Error |\n",
    "|-|-|-|-|\n",
    "| Logistic Regression | 73.1% | 152 | 63 |\n",
    "| Naive Bayes | 67.7% | 103 | 155 |\n",
    "| k-nn | 70.2% | 159 | 79 |\n",
    "| SVM | 73.3% | 166 | 47 |\n",
    "| Kernel SVM | 73.7% | 171 | 39 |\n",
    "| Decision Tree | 71.3% | 164 | 65 |\n",
    "| Random Forest | 70.3% | 126 | 111 |\n",
    "| XGBoost | 72.3% | 135 | 86 |"
   ]
  },
  {
   "cell_type": "markdown",
   "metadata": {
    "papermill": {
     "duration": 0.029893,
     "end_time": "2020-09-07T17:59:46.716900",
     "exception": false,
     "start_time": "2020-09-07T17:59:46.687007",
     "status": "completed"
    },
    "tags": []
   },
   "source": [
    "* Kernel SVM has lowest Type 2 Error(False Negatives)\n",
    "* Naive Bayes has the lowest Type 1 Error (False Positives)"
   ]
  },
  {
   "cell_type": "markdown",
   "metadata": {
    "papermill": {
     "duration": 0.024632,
     "end_time": "2020-09-07T17:59:46.767795",
     "exception": false,
     "start_time": "2020-09-07T17:59:46.743163",
     "status": "completed"
    },
    "tags": []
   },
   "source": [
    "**6.Fine Tuning**"
   ]
  },
  {
   "cell_type": "code",
   "execution_count": 36,
   "metadata": {
    "execution": {
     "iopub.execute_input": "2020-09-07T17:59:46.825450Z",
     "iopub.status.busy": "2020-09-07T17:59:46.824283Z",
     "iopub.status.idle": "2020-09-07T17:59:47.191215Z",
     "shell.execute_reply": "2020-09-07T17:59:47.192064Z"
    },
    "papermill": {
     "duration": 0.399542,
     "end_time": "2020-09-07T17:59:47.192285",
     "exception": false,
     "start_time": "2020-09-07T17:59:46.792743",
     "status": "completed"
    },
    "tags": []
   },
   "outputs": [
    {
     "name": "stdout",
     "output_type": "stream",
     "text": [
      "Fitting 5 folds for each of 6 candidates, totalling 30 fits\n",
      "[CV] n_neighbors=4, weights=uniform ..................................\n",
      "[CV] ...... n_neighbors=4, weights=uniform, score=0.669, total=   0.0s\n",
      "[CV] n_neighbors=4, weights=uniform ..................................\n",
      "[CV] ...... n_neighbors=4, weights=uniform, score=0.631, total=   0.0s\n",
      "[CV] n_neighbors=4, weights=uniform ..................................\n",
      "[CV] ...... n_neighbors=4, weights=uniform, score=0.662, total=   0.0s\n",
      "[CV] n_neighbors=4, weights=uniform ..................................\n",
      "[CV] ...... n_neighbors=4, weights=uniform, score=0.625, total=   0.0s\n",
      "[CV] n_neighbors=4, weights=uniform ..................................\n",
      "[CV] ...... n_neighbors=4, weights=uniform, score=0.681, total=   0.0s\n",
      "[CV] n_neighbors=4, weights=distance .................................\n",
      "[CV] ..... n_neighbors=4, weights=distance, score=0.706, total=   0.0s\n",
      "[CV] n_neighbors=4, weights=distance .................................\n",
      "[CV] ..... n_neighbors=4, weights=distance, score=0.637, total=   0.0s\n",
      "[CV] n_neighbors=4, weights=distance .................................\n",
      "[CV] ..... n_neighbors=4, weights=distance, score=0.669, total=   0.0s\n",
      "[CV] n_neighbors=4, weights=distance .................................\n",
      "[CV] ..... n_neighbors=4, weights=distance, score=0.669, total=   0.0s\n",
      "[CV] n_neighbors=4, weights=distance .................................\n",
      "[CV] ..... n_neighbors=4, weights=distance, score=0.675, total=   0.0s\n",
      "[CV] n_neighbors=5, weights=uniform ..................................\n",
      "[CV] ...... n_neighbors=5, weights=uniform, score=0.694, total=   0.0s\n",
      "[CV] n_neighbors=5, weights=uniform ..................................\n",
      "[CV] ...... n_neighbors=5, weights=uniform, score=0.694, total=   0.0s\n",
      "[CV] n_neighbors=5, weights=uniform ..................................\n",
      "[CV] ...... n_neighbors=5, weights=uniform, score=0.719, total=   0.0s\n",
      "[CV] n_neighbors=5, weights=uniform ..................................\n",
      "[CV] ...... n_neighbors=5, weights=uniform, score=0.675, total=   0.0s\n",
      "[CV] n_neighbors=5, weights=uniform ..................................\n",
      "[CV] ...... n_neighbors=5, weights=uniform, score=0.731, total=   0.0s\n",
      "[CV] n_neighbors=5, weights=distance .................................\n",
      "[CV] ..... n_neighbors=5, weights=distance, score=0.706, total=   0.0s\n",
      "[CV] n_neighbors=5, weights=distance .................................\n"
     ]
    },
    {
     "name": "stderr",
     "output_type": "stream",
     "text": [
      "[Parallel(n_jobs=1)]: Using backend SequentialBackend with 1 concurrent workers.\n",
      "[Parallel(n_jobs=1)]: Done   1 out of   1 | elapsed:    0.0s remaining:    0.0s\n",
      "[Parallel(n_jobs=1)]: Done   2 out of   2 | elapsed:    0.0s remaining:    0.0s\n"
     ]
    },
    {
     "name": "stdout",
     "output_type": "stream",
     "text": [
      "[CV] ..... n_neighbors=5, weights=distance, score=0.688, total=   0.0s\n",
      "[CV] n_neighbors=5, weights=distance .................................\n",
      "[CV] ..... n_neighbors=5, weights=distance, score=0.700, total=   0.0s\n",
      "[CV] n_neighbors=5, weights=distance .................................\n",
      "[CV] ..... n_neighbors=5, weights=distance, score=0.681, total=   0.0s\n",
      "[CV] n_neighbors=5, weights=distance .................................\n",
      "[CV] ..... n_neighbors=5, weights=distance, score=0.713, total=   0.0s\n",
      "[CV] n_neighbors=7, weights=uniform ..................................\n",
      "[CV] ...... n_neighbors=7, weights=uniform, score=0.731, total=   0.0s\n",
      "[CV] n_neighbors=7, weights=uniform ..................................\n",
      "[CV] ...... n_neighbors=7, weights=uniform, score=0.700, total=   0.0s\n",
      "[CV] n_neighbors=7, weights=uniform ..................................\n",
      "[CV] ...... n_neighbors=7, weights=uniform, score=0.725, total=   0.0s\n",
      "[CV] n_neighbors=7, weights=uniform ..................................\n",
      "[CV] ...... n_neighbors=7, weights=uniform, score=0.675, total=   0.0s\n",
      "[CV] n_neighbors=7, weights=uniform ..................................\n",
      "[CV] ...... n_neighbors=7, weights=uniform, score=0.750, total=   0.0s\n",
      "[CV] n_neighbors=7, weights=distance .................................\n",
      "[CV] ..... n_neighbors=7, weights=distance, score=0.731, total=   0.0s\n",
      "[CV] n_neighbors=7, weights=distance .................................\n",
      "[CV] ..... n_neighbors=7, weights=distance, score=0.688, total=   0.0s\n",
      "[CV] n_neighbors=7, weights=distance .................................\n",
      "[CV] ..... n_neighbors=7, weights=distance, score=0.719, total=   0.0s\n",
      "[CV] n_neighbors=7, weights=distance .................................\n",
      "[CV] ..... n_neighbors=7, weights=distance, score=0.681, total=   0.0s\n",
      "[CV] n_neighbors=7, weights=distance .................................\n",
      "[CV] ..... n_neighbors=7, weights=distance, score=0.744, total=   0.0s\n"
     ]
    },
    {
     "name": "stderr",
     "output_type": "stream",
     "text": [
      "[Parallel(n_jobs=1)]: Done  30 out of  30 | elapsed:    0.3s finished\n"
     ]
    },
    {
     "data": {
      "text/plain": [
       "GridSearchCV(cv=5, estimator=KNeighborsClassifier(),\n",
       "             param_grid=[{'n_neighbors': [4, 5, 7],\n",
       "                          'weights': ['uniform', 'distance']}],\n",
       "             verbose=3)"
      ]
     },
     "execution_count": 36,
     "metadata": {},
     "output_type": "execute_result"
    }
   ],
   "source": [
    "from sklearn.model_selection import GridSearchCV\n",
    "param_grid = [{'weights': [\"uniform\", \"distance\"], 'n_neighbors': [4, 5, 7] }]\n",
    "\n",
    "grid_search = GridSearchCV(knn, param_grid, cv=5, verbose=3)\n",
    "grid_search.fit(X_train, y_train)"
   ]
  },
  {
   "cell_type": "code",
   "execution_count": 37,
   "metadata": {
    "execution": {
     "iopub.execute_input": "2020-09-07T17:59:47.250794Z",
     "iopub.status.busy": "2020-09-07T17:59:47.249761Z",
     "iopub.status.idle": "2020-09-07T17:59:47.254540Z",
     "shell.execute_reply": "2020-09-07T17:59:47.253929Z"
    },
    "papermill": {
     "duration": 0.035571,
     "end_time": "2020-09-07T17:59:47.254657",
     "exception": false,
     "start_time": "2020-09-07T17:59:47.219086",
     "status": "completed"
    },
    "tags": []
   },
   "outputs": [
    {
     "data": {
      "text/plain": [
       "{'n_neighbors': 7, 'weights': 'uniform'}"
      ]
     },
     "execution_count": 37,
     "metadata": {},
     "output_type": "execute_result"
    }
   ],
   "source": [
    "grid_search.best_params_"
   ]
  },
  {
   "cell_type": "code",
   "execution_count": 38,
   "metadata": {
    "execution": {
     "iopub.execute_input": "2020-09-07T17:59:47.312528Z",
     "iopub.status.busy": "2020-09-07T17:59:47.311409Z",
     "iopub.status.idle": "2020-09-07T17:59:47.315884Z",
     "shell.execute_reply": "2020-09-07T17:59:47.315247Z"
    },
    "papermill": {
     "duration": 0.035435,
     "end_time": "2020-09-07T17:59:47.316002",
     "exception": false,
     "start_time": "2020-09-07T17:59:47.280567",
     "status": "completed"
    },
    "tags": []
   },
   "outputs": [
    {
     "data": {
      "text/plain": [
       "0.7162499999999999"
      ]
     },
     "execution_count": 38,
     "metadata": {},
     "output_type": "execute_result"
    }
   ],
   "source": [
    "grid_search.best_score_"
   ]
  },
  {
   "cell_type": "code",
   "execution_count": 39,
   "metadata": {
    "execution": {
     "iopub.execute_input": "2020-09-07T17:59:47.375512Z",
     "iopub.status.busy": "2020-09-07T17:59:47.374708Z",
     "iopub.status.idle": "2020-09-07T17:59:47.453478Z",
     "shell.execute_reply": "2020-09-07T17:59:47.454120Z"
    },
    "papermill": {
     "duration": 0.112306,
     "end_time": "2020-09-07T17:59:47.454281",
     "exception": false,
     "start_time": "2020-09-07T17:59:47.341975",
     "status": "completed"
    },
    "tags": []
   },
   "outputs": [
    {
     "name": "stdout",
     "output_type": "stream",
     "text": [
      "Accuracy score: 0.71625\n",
      "Confusion Matrix\n",
      "[[ 77 163]\n",
      " [ 64 496]]\n"
     ]
    }
   ],
   "source": [
    "knn = KNeighborsClassifier(n_neighbors = 7, weights = 'uniform')\n",
    "y_pred_knn = cross_val_predict(knn,X_train,y_train,cv = 5)\n",
    "print('Accuracy score:',accuracy_score(y_train, y_pred_knn))\n",
    "print('Confusion Matrix')\n",
    "print(confusion_matrix(y_train, y_pred_knn))"
   ]
  },
  {
   "cell_type": "markdown",
   "metadata": {
    "papermill": {
     "duration": 0.025803,
     "end_time": "2020-09-07T17:59:47.506656",
     "exception": false,
     "start_time": "2020-09-07T17:59:47.480853",
     "status": "completed"
    },
    "tags": []
   },
   "source": [
    "* knn's accuracy rate increased and Type 2 errors decreased."
   ]
  },
  {
   "cell_type": "markdown",
   "metadata": {
    "papermill": {
     "duration": 0.025553,
     "end_time": "2020-09-07T17:59:47.558196",
     "exception": false,
     "start_time": "2020-09-07T17:59:47.532643",
     "status": "completed"
    },
    "tags": []
   },
   "source": [
    "**7.Ensemble Learning**"
   ]
  },
  {
   "cell_type": "markdown",
   "metadata": {
    "papermill": {
     "duration": 0.025709,
     "end_time": "2020-09-07T17:59:47.609919",
     "exception": false,
     "start_time": "2020-09-07T17:59:47.584210",
     "status": "completed"
    },
    "tags": []
   },
   "source": [
    "* Voting Classifier, soft voting\n",
    "* First all models included"
   ]
  },
  {
   "cell_type": "code",
   "execution_count": 40,
   "metadata": {
    "execution": {
     "iopub.execute_input": "2020-09-07T17:59:47.672059Z",
     "iopub.status.busy": "2020-09-07T17:59:47.671255Z",
     "iopub.status.idle": "2020-09-07T17:59:49.533600Z",
     "shell.execute_reply": "2020-09-07T17:59:49.534671Z"
    },
    "papermill": {
     "duration": 1.898961,
     "end_time": "2020-09-07T17:59:49.534936",
     "exception": false,
     "start_time": "2020-09-07T17:59:47.635975",
     "status": "completed"
    },
    "tags": []
   },
   "outputs": [
    {
     "name": "stdout",
     "output_type": "stream",
     "text": [
      "Accuracy score: 0.745\n",
      "Confusion Matrix\n",
      "[[ 96 144]\n",
      " [ 60 500]]\n"
     ]
    }
   ],
   "source": [
    "voting_clf = VotingClassifier(estimators = [('lr',lr),\n",
    "                                            ('nb',nb),\n",
    "                                            ('knn',knn),\n",
    "                                            ('svc',svc),\n",
    "                                            ('svcKernel',svcKernel),\n",
    "                                            ('rf',rf),\n",
    "                                            ('dt',dt),\n",
    "                                            ('xgb',xgb)], \n",
    "                              voting = 'soft') \n",
    "y_pred = cross_val_predict(voting_clf,X_train,y_train,cv = 5)\n",
    "print('Accuracy score:',accuracy_score(y_train, y_pred))\n",
    "print('Confusion Matrix')\n",
    "print(confusion_matrix(y_train, y_pred))"
   ]
  },
  {
   "cell_type": "markdown",
   "metadata": {
    "papermill": {
     "duration": 0.033338,
     "end_time": "2020-09-07T17:59:49.602990",
     "exception": false,
     "start_time": "2020-09-07T17:59:49.569652",
     "status": "completed"
    },
    "tags": []
   },
   "source": [
    "* I decided to use the 5 models with highest accuracy rate"
   ]
  },
  {
   "cell_type": "code",
   "execution_count": 41,
   "metadata": {
    "execution": {
     "iopub.execute_input": "2020-09-07T17:59:49.681057Z",
     "iopub.status.busy": "2020-09-07T17:59:49.680176Z",
     "iopub.status.idle": "2020-09-07T17:59:51.332980Z",
     "shell.execute_reply": "2020-09-07T17:59:51.333790Z"
    },
    "papermill": {
     "duration": 1.696412,
     "end_time": "2020-09-07T17:59:51.334004",
     "exception": false,
     "start_time": "2020-09-07T17:59:49.637592",
     "status": "completed"
    },
    "tags": []
   },
   "outputs": [
    {
     "name": "stdout",
     "output_type": "stream",
     "text": [
      "Accuracy score: 0.74875\n",
      "Confusion Matrix\n",
      "[[ 90 150]\n",
      " [ 51 509]]\n"
     ]
    }
   ],
   "source": [
    "voting_clf2 = VotingClassifier(estimators = [('lr',lr),\n",
    "                                            ('svc',svc),\n",
    "                                            ('svcKernel',svcKernel),\n",
    "                                            ('dt',dt),\n",
    "                                            ('xgb',xgb)], \n",
    "                              voting = 'soft') \n",
    "y_pred = cross_val_predict(voting_clf2,X_train,y_train,cv = 5)\n",
    "print('Accuracy score:',accuracy_score(y_train, y_pred))\n",
    "print('Confusion Matrix')\n",
    "print(confusion_matrix(y_train, y_pred))"
   ]
  },
  {
   "cell_type": "markdown",
   "metadata": {
    "papermill": {
     "duration": 0.031862,
     "end_time": "2020-09-07T17:59:51.398405",
     "exception": false,
     "start_time": "2020-09-07T17:59:51.366543",
     "status": "completed"
    },
    "tags": []
   },
   "source": [
    "**Checking The accuracy score with Test Set**"
   ]
  },
  {
   "cell_type": "code",
   "execution_count": 42,
   "metadata": {
    "execution": {
     "iopub.execute_input": "2020-09-07T17:59:51.472703Z",
     "iopub.status.busy": "2020-09-07T17:59:51.471868Z",
     "iopub.status.idle": "2020-09-07T17:59:51.888236Z",
     "shell.execute_reply": "2020-09-07T17:59:51.889066Z"
    },
    "papermill": {
     "duration": 0.458448,
     "end_time": "2020-09-07T17:59:51.889241",
     "exception": false,
     "start_time": "2020-09-07T17:59:51.430793",
     "status": "completed"
    },
    "tags": []
   },
   "outputs": [
    {
     "name": "stdout",
     "output_type": "stream",
     "text": [
      "Accuracy score: 0.77\n",
      "Confusion Matrix\n",
      "[[ 26  34]\n",
      " [ 12 128]]\n"
     ]
    }
   ],
   "source": [
    "voting_clf2 = VotingClassifier(estimators = [('lr',lr),\n",
    "                                            ('svc',svc),\n",
    "                                            ('svcKernel',svcKernel),\n",
    "                                            ('dt',dt),\n",
    "                                            ('xgb',xgb)], \n",
    "                              voting = 'soft') \n",
    "voting_clf2.fit(X_train,y_train)\n",
    "y_pred = voting_clf2.predict(X_test)\n",
    "print('Accuracy score:',accuracy_score(y_test, y_pred))\n",
    "print('Confusion Matrix')\n",
    "print(confusion_matrix(y_test, y_pred))"
   ]
  },
  {
   "cell_type": "markdown",
   "metadata": {
    "papermill": {
     "duration": 0.032093,
     "end_time": "2020-09-07T17:59:51.953944",
     "exception": false,
     "start_time": "2020-09-07T17:59:51.921851",
     "status": "completed"
    },
    "tags": []
   },
   "source": [
    "**8.Conclusion**  \n",
    "77% accuracy rate achieved with soft voting using Logistic Regression, SVC, kernel SVC, Decision Tree and XGB models."
   ]
  },
  {
   "cell_type": "markdown",
   "metadata": {
    "papermill": {
     "duration": 0.032105,
     "end_time": "2020-09-07T17:59:52.018865",
     "exception": false,
     "start_time": "2020-09-07T17:59:51.986760",
     "status": "completed"
    },
    "tags": []
   },
   "source": [
    "**9.References**  \n",
    "* [German Credit Analysis || A Risk Perspective](https://www.kaggle.com/janiobachmann/german-credit-analysis-a-risk-perspective)\n"
   ]
  }
 ],
 "metadata": {
  "kernelspec": {
   "display_name": "Python 3",
   "language": "python",
   "name": "python3"
  },
  "language_info": {
   "codemirror_mode": {
    "name": "ipython",
    "version": 3
   },
   "file_extension": ".py",
   "mimetype": "text/x-python",
   "name": "python",
   "nbconvert_exporter": "python",
   "pygments_lexer": "ipython3",
   "version": "3.7.6"
  },
  "papermill": {
   "duration": 20.063782,
   "end_time": "2020-09-07T17:59:52.159520",
   "environment_variables": {},
   "exception": null,
   "input_path": "__notebook__.ipynb",
   "output_path": "__notebook__.ipynb",
   "parameters": {},
   "start_time": "2020-09-07T17:59:32.095738",
   "version": "2.1.0"
  }
 },
 "nbformat": 4,
 "nbformat_minor": 4
}
